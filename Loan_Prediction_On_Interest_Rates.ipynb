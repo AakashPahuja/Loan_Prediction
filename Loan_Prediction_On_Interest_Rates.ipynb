{
 "cells": [
  {
   "cell_type": "code",
   "execution_count": 148,
   "metadata": {},
   "outputs": [],
   "source": [
    "import pandas as pd\n",
    "import numpy as np\n",
    "from sklearn import preprocessing\n",
    "import matplotlib.pyplot as plt\n",
    "from sklearn.model_selection import train_test_split\n",
    "from sklearn.linear_model import LinearRegression, RidgeCV\n",
    "from sklearn.metrics import mean_squared_error"
   ]
  },
  {
   "cell_type": "code",
   "execution_count": 185,
   "metadata": {},
   "outputs": [
    {
     "name": "stderr",
     "output_type": "stream",
     "text": [
      "C:\\Users\\Aakash Pahuja\\Anaconda3\\lib\\site-packages\\IPython\\core\\interactiveshell.py:3058: DtypeWarning: Columns (15) have mixed types. Specify dtype option on import or set low_memory=False.\n",
      "  interactivity=interactivity, compiler=compiler, result=result)\n"
     ]
    }
   ],
   "source": [
    "train = pd.read_csv('Data for Cleaning & Modeling.csv')"
   ]
  },
  {
   "cell_type": "code",
   "execution_count": 186,
   "metadata": {},
   "outputs": [],
   "source": [
    "test = pd.read_csv('Holdout for Testing.csv')"
   ]
  },
  {
   "cell_type": "markdown",
   "metadata": {},
   "source": [
    "### Step 1: Preprocessing and Feature Mining"
   ]
  },
  {
   "cell_type": "markdown",
   "metadata": {},
   "source": [
    "#### Drop X2, X3 as they are unique identifiers for each loan and borrower and not useful for our model"
   ]
  },
  {
   "cell_type": "code",
   "execution_count": 187,
   "metadata": {},
   "outputs": [],
   "source": [
    "train.drop(['X2', 'X3'], axis=1, inplace=True)\n",
    "test.drop(['X2', 'X3'], axis=1, inplace=True)"
   ]
  },
  {
   "cell_type": "code",
   "execution_count": 188,
   "metadata": {},
   "outputs": [
    {
     "name": "stdout",
     "output_type": "stream",
     "text": [
      "<class 'pandas.core.frame.DataFrame'>\n",
      "RangeIndex: 400000 entries, 0 to 399999\n",
      "Data columns (total 30 columns):\n",
      "X1     338990 non-null object\n",
      "X4     399999 non-null object\n",
      "X5     399999 non-null object\n",
      "X6     399999 non-null object\n",
      "X7     399999 non-null object\n",
      "X8     338730 non-null object\n",
      "X9     338730 non-null object\n",
      "X10    376014 non-null object\n",
      "X11    382462 non-null object\n",
      "X12    338639 non-null object\n",
      "X13    338972 non-null float64\n",
      "X14    399999 non-null object\n",
      "X15    399999 non-null object\n",
      "X16    123560 non-null object\n",
      "X17    399999 non-null object\n",
      "X18    399981 non-null object\n",
      "X19    399999 non-null object\n",
      "X20    399999 non-null object\n",
      "X21    399999 non-null float64\n",
      "X22    399999 non-null float64\n",
      "X23    399999 non-null object\n",
      "X24    399999 non-null float64\n",
      "X25    181198 non-null float64\n",
      "X26    51155 non-null float64\n",
      "X27    399999 non-null float64\n",
      "X28    399999 non-null float64\n",
      "X29    399999 non-null float64\n",
      "X30    399733 non-null object\n",
      "X31    399999 non-null float64\n",
      "X32    399999 non-null object\n",
      "dtypes: float64(10), object(20)\n",
      "memory usage: 91.6+ MB\n"
     ]
    }
   ],
   "source": [
    "train.info()"
   ]
  },
  {
   "cell_type": "markdown",
   "metadata": {},
   "source": [
    "#### Our dependent variable 'X1'  is missing values, we will replace them by using the mean of the whole column. We also need to change the type of the column from object to a float (by removing the '%' sign) for our model to interpret."
   ]
  },
  {
   "cell_type": "code",
   "execution_count": 189,
   "metadata": {},
   "outputs": [],
   "source": [
    "train['X1'] = pd.to_numeric(train['X1'].str.replace('%', ''))/100\n",
    "train = train.dropna(subset=['X1'])"
   ]
  },
  {
   "cell_type": "markdown",
   "metadata": {},
   "source": [
    "There are missing values for the X8 and X9 columns, which correspond to loan grades and loan subgrades. We will drop those rows from the data frame."
   ]
  },
  {
   "cell_type": "code",
   "execution_count": 190,
   "metadata": {},
   "outputs": [],
   "source": [
    "train.dropna(subset=['X8', 'X9'], inplace=True)"
   ]
  },
  {
   "cell_type": "markdown",
   "metadata": {},
   "source": [
    "#### Remove column X16: Reason for applying for loan\n",
    "\n",
    "As more than 50% of its values are missing and it is the borrower's reason for applying for the loan; this is another relatively unique text data type that will most likely not be useful for our model."
   ]
  },
  {
   "cell_type": "code",
   "execution_count": 191,
   "metadata": {},
   "outputs": [],
   "source": [
    "train.drop(['X16'], axis=1, inplace=True)\n",
    "\n",
    "\n",
    "test.drop(['X16'], axis=1, inplace=True)"
   ]
  },
  {
   "cell_type": "markdown",
   "metadata": {},
   "source": [
    "#### Remove column X10: Borrower-provided job title\n",
    "\n",
    "Column X10, which corresponds to borrower-entered employer or job title, is missing almost 20000 values. This is also another unique character data type that won't be as useful to our model, so we will remove the variable altogether from both the test and training data set."
   ]
  },
  {
   "cell_type": "code",
   "execution_count": 192,
   "metadata": {},
   "outputs": [],
   "source": [
    "train.drop(['X10'], axis=1, inplace=True)\n",
    "\n",
    "test.drop(['X10'], axis=1, inplace=True)"
   ]
  },
  {
   "cell_type": "markdown",
   "metadata": {},
   "source": [
    "#### Remove rows where X13 column has missing values: Annual Income\n",
    "We will not impute these missing values since it would create false information in a feature."
   ]
  },
  {
   "cell_type": "code",
   "execution_count": 193,
   "metadata": {},
   "outputs": [],
   "source": [
    "train.dropna(subset=['X13'], inplace=True)"
   ]
  },
  {
   "cell_type": "markdown",
   "metadata": {},
   "source": [
    "#### Remove X18 column: Loan Title\n",
    "\n",
    "This column is not useful for our predictive model as it is the loan title, provided by the borrower; it's another text data type unique to each observation with seemingly no impact on our target variable (interest rate). Secondly, most of the rows have meaningless text"
   ]
  },
  {
   "cell_type": "code",
   "execution_count": 194,
   "metadata": {},
   "outputs": [],
   "source": [
    "train.drop(['X18'], axis=1, inplace=True)\n",
    "test.drop(['X18'], axis=1, inplace=True)"
   ]
  },
  {
   "cell_type": "markdown",
   "metadata": {},
   "source": [
    "#### Remove X25 and X26 from data sets: # of months since last delinquency and public record\n",
    "I will delete these variables with reluctance. Both of these variables would seem to be good predictors for the interest rate assigned to a loan, but they both have more than 50% of their values missing in both the training and test data, we will remove the columns altogether."
   ]
  },
  {
   "cell_type": "code",
   "execution_count": 195,
   "metadata": {},
   "outputs": [],
   "source": [
    "train.drop(['X25', 'X26'], axis=1, inplace=True)\n",
    "test.drop(['X25', 'X26'], axis=1, inplace=True)"
   ]
  },
  {
   "cell_type": "markdown",
   "metadata": {},
   "source": [
    "#### Remove rows with missing values in X30 column: credit utilization percentage...\n",
    "since there are only about some missing values in this column, we will delete these rows from both the training and the test sets. We will replace the missing values with the median value of the whole column."
   ]
  },
  {
   "cell_type": "code",
   "execution_count": 196,
   "metadata": {},
   "outputs": [],
   "source": [
    "train.dropna(subset=['X30'], inplace=True)\n",
    "test['X30'] = pd.to_numeric(test['X30'].str.replace('%', ''))\n",
    "\n",
    "test['X30'] = test['X30'].fillna(test.X30.median(axis=0))"
   ]
  },
  {
   "cell_type": "markdown",
   "metadata": {},
   "source": [
    "#### Remove X1 (interest rate) variable from test set\n",
    "This is the target variable that we are predicting for our test set, so we remove this empty column (and will replace it with our predictions later)."
   ]
  },
  {
   "cell_type": "code",
   "execution_count": 197,
   "metadata": {},
   "outputs": [],
   "source": [
    "test.drop(['X1'], axis=1, inplace=True)"
   ]
  },
  {
   "cell_type": "markdown",
   "metadata": {},
   "source": [
    "#### Remove X11 (Years of Employment) column from training and test sets...\n",
    "In order to turn our column into float we need to remove symbols like '+, <', which would take out the meaning of most rows. Due to the high complexity of that column we will remove the column instead rather than fixing most rows."
   ]
  },
  {
   "cell_type": "code",
   "execution_count": 198,
   "metadata": {},
   "outputs": [],
   "source": [
    "test.drop(['X11'], axis=1, inplace=True)\n",
    "train.drop(['X11'], axis=1, inplace=True)"
   ]
  },
  {
   "cell_type": "markdown",
   "metadata": {},
   "source": [
    "#### Remove X15 (Date Loan was Issued)\n",
    "Even though I think base interest rates may oscillate during certains months of any year, like seasons, this feature doesn't seem to be as strong as some of the other features, intuitively."
   ]
  },
  {
   "cell_type": "code",
   "execution_count": 199,
   "metadata": {},
   "outputs": [],
   "source": [
    "test.drop(['X15'], axis=1, inplace=True)\n",
    "train.drop(['X15'], axis=1, inplace=True)"
   ]
  },
  {
   "cell_type": "markdown",
   "metadata": {},
   "source": [
    "#### Remove X20 column (State)\n",
    "Since we already have a more granular location feature being used for our model: first three of zip code. We do not the State column"
   ]
  },
  {
   "cell_type": "code",
   "execution_count": 200,
   "metadata": {},
   "outputs": [],
   "source": [
    "test.drop(['X20'], axis=1, inplace=True)\n",
    "train.drop(['X20'], axis=1, inplace=True)"
   ]
  },
  {
   "cell_type": "markdown",
   "metadata": {},
   "source": [
    "#### Remove X23 column (Date of Earliest Line of Credit) from training and test set"
   ]
  },
  {
   "cell_type": "code",
   "execution_count": 201,
   "metadata": {},
   "outputs": [],
   "source": [
    "test.drop(['X23'], axis=1, inplace=True)\n",
    "train.drop(['X23'], axis=1, inplace=True)"
   ]
  },
  {
   "cell_type": "markdown",
   "metadata": {},
   "source": [
    "#### Remove X32 column (Initial Listing Status of Loan) from training and test set¶\n",
    "I do not think these initial listing status' would be available when predicting an interest rate for new customers."
   ]
  },
  {
   "cell_type": "code",
   "execution_count": 202,
   "metadata": {},
   "outputs": [],
   "source": [
    "test.drop(['X32'], axis=1, inplace=True)\n",
    "train.drop(['X32'], axis=1, inplace=True)"
   ]
  },
  {
   "cell_type": "markdown",
   "metadata": {},
   "source": [
    "#### Remove X12 Column (Home Ownership Status)\n",
    "This feature does seem to correlate with loan interest rate, but the problem we have is that there are 61360 missing values. We do not want to combine or impute these values at the cost of creating incorrect signal for our model. \n"
   ]
  },
  {
   "cell_type": "code",
   "execution_count": 203,
   "metadata": {},
   "outputs": [],
   "source": [
    "test.drop(['X12'], axis=1, inplace=True)\n",
    "train.drop(['X12'], axis=1, inplace=True)"
   ]
  },
  {
   "cell_type": "markdown",
   "metadata": {},
   "source": [
    "#### Lets clean more of our columns with string data type in float data type in our training data (by removing the 'dollar', '%', signs and etc) for our model to interpret."
   ]
  },
  {
   "cell_type": "code",
   "execution_count": 204,
   "metadata": {},
   "outputs": [],
   "source": [
    "train['X4'] = train['X4'].str.replace('$', '')\n",
    "train['X4'] = pd.to_numeric(train['X4'].str.replace(',', ''))\n",
    "train['X5'] = train['X5'].str.replace('$', '')\n",
    "train['X5'] = pd.to_numeric(train['X5'].str.replace(',', ''))\n",
    "train['X6'] = train['X6'].str.replace('$', '')\n",
    "train['X6'] = pd.to_numeric(train['X6'].str.replace(',', ''))\n",
    "train['X7'] = pd.to_numeric(train['X7'].str.replace(' months', ''))\n",
    "train['X19'] = pd.to_numeric(train['X19'].str.replace('x', ''))\n",
    "train['X21'] = train['X21']/100 # convert dti percentage to ratio\n",
    "train['X13'] = train['X13'].astype(int) # convert to interger type\n",
    "train['X22'] = train['X22'].astype(int) # convert to interger type\n",
    "train['X24'] = train['X24'].astype(int) # convert to interger type\n",
    "train['X27'] = train['X27'].astype(int) # convert to interger type\n",
    "train['X28'] = train['X28'].astype(int) # convert to interger type\n",
    "train['X29'] = train['X29'].astype(int) # convert to interger type\n",
    "train['X30'] = train['X30'].str.replace('%', '')\n",
    "train['X30'] = pd.to_numeric(train['X30'].str.replace(',', ''))/100\n",
    "train['X31'] = train['X31'].astype(int) # convert to interger type"
   ]
  },
  {
   "cell_type": "markdown",
   "metadata": {},
   "source": [
    "## Categorical Features\n",
    "\n",
    "Notice that the **X8, X9, X14 and X17** column as categorical\n",
    "\n",
    "That means we need to transform them using dummy variables so sklearn will be able to understand them. Let's do this in one clean step using pd.get_dummies.\n",
    "\n",
    "Let's show you a way of dealing with these columns that can be expanded to multiple categorical features if necessary."
   ]
  },
  {
   "cell_type": "markdown",
   "metadata": {},
   "source": [
    "### To be noted\n",
    "I initially was using pd.get_dummies to create dummy variables. But later when I was trying to predict the interest rates on my ***Holdout for Testing data***, I was getting the following error:\n",
    "\n",
    "ValueError: feature_names mismatch: ['X4', 'X5', 'X6', 'X7', 'X8', 'X9', 'X13', 'X14', 'X19', 'X21', 'X22', 'X24', 'X27', 'X28', 'X29', 'X30', 'X31', 'X17_credit_card', 'X17_debt_consolidation', 'X17_educational', 'X17_home_improvement', 'X17_house', 'X17_major_purchase', 'X17_medical', 'X17_moving', 'X17_other', 'X17_renewable_energy', 'X17_small_business', 'X17_vacation', 'X17_wedding'] ['X4', 'X5', 'X6', 'X7', 'X8', 'X9', 'X13', 'X14', 'X19', 'X21', 'X22', 'X24', 'X27', 'X28', 'X29', 'X30', 'X31', 'X17_credit_card', 'X17_debt_consolidation', 'X17_home_improvement', 'X17_house', 'X17_major_purchase', 'X17_medical', 'X17_moving', 'X17_other', 'X17_renewable_energy', 'X17_small_business', 'X17_vacation', 'X17_wedding']\n",
    "expected X17_educational in input data\n",
    "\n",
    "***Hence, I sticked with LabelEncoder instead***"
   ]
  },
  {
   "cell_type": "markdown",
   "metadata": {},
   "source": [
    "#### Fit label encorder and return encoded integer labels for categorical string features"
   ]
  },
  {
   "cell_type": "code",
   "execution_count": 205,
   "metadata": {},
   "outputs": [
    {
     "data": {
      "text/html": [
       "<div>\n",
       "<style scoped>\n",
       "    .dataframe tbody tr th:only-of-type {\n",
       "        vertical-align: middle;\n",
       "    }\n",
       "\n",
       "    .dataframe tbody tr th {\n",
       "        vertical-align: top;\n",
       "    }\n",
       "\n",
       "    .dataframe thead th {\n",
       "        text-align: right;\n",
       "    }\n",
       "</style>\n",
       "<table border=\"1\" class=\"dataframe\">\n",
       "  <thead>\n",
       "    <tr style=\"text-align: right;\">\n",
       "      <th></th>\n",
       "      <th>X1</th>\n",
       "      <th>X4</th>\n",
       "      <th>X5</th>\n",
       "      <th>X6</th>\n",
       "      <th>X7</th>\n",
       "      <th>X8</th>\n",
       "      <th>X9</th>\n",
       "      <th>X13</th>\n",
       "      <th>X14</th>\n",
       "      <th>X17</th>\n",
       "      <th>X19</th>\n",
       "      <th>X21</th>\n",
       "      <th>X22</th>\n",
       "      <th>X24</th>\n",
       "      <th>X27</th>\n",
       "      <th>X28</th>\n",
       "      <th>X29</th>\n",
       "      <th>X30</th>\n",
       "      <th>X31</th>\n",
       "    </tr>\n",
       "  </thead>\n",
       "  <tbody>\n",
       "    <tr>\n",
       "      <td>0</td>\n",
       "      <td>0.1189</td>\n",
       "      <td>25000</td>\n",
       "      <td>25000</td>\n",
       "      <td>19080</td>\n",
       "      <td>36</td>\n",
       "      <td>B</td>\n",
       "      <td>B4</td>\n",
       "      <td>85000</td>\n",
       "      <td>VERIFIED - income</td>\n",
       "      <td>debt_consolidation</td>\n",
       "      <td>941</td>\n",
       "      <td>0.1948</td>\n",
       "      <td>0</td>\n",
       "      <td>0</td>\n",
       "      <td>10</td>\n",
       "      <td>0</td>\n",
       "      <td>28854</td>\n",
       "      <td>0.521</td>\n",
       "      <td>42</td>\n",
       "    </tr>\n",
       "    <tr>\n",
       "      <td>1</td>\n",
       "      <td>0.1071</td>\n",
       "      <td>7000</td>\n",
       "      <td>7000</td>\n",
       "      <td>673</td>\n",
       "      <td>36</td>\n",
       "      <td>B</td>\n",
       "      <td>B5</td>\n",
       "      <td>65000</td>\n",
       "      <td>not verified</td>\n",
       "      <td>credit_card</td>\n",
       "      <td>112</td>\n",
       "      <td>0.1429</td>\n",
       "      <td>0</td>\n",
       "      <td>0</td>\n",
       "      <td>7</td>\n",
       "      <td>0</td>\n",
       "      <td>33623</td>\n",
       "      <td>0.767</td>\n",
       "      <td>7</td>\n",
       "    </tr>\n",
       "    <tr>\n",
       "      <td>2</td>\n",
       "      <td>0.1699</td>\n",
       "      <td>25000</td>\n",
       "      <td>25000</td>\n",
       "      <td>24725</td>\n",
       "      <td>36</td>\n",
       "      <td>D</td>\n",
       "      <td>D3</td>\n",
       "      <td>70000</td>\n",
       "      <td>VERIFIED - income</td>\n",
       "      <td>debt_consolidation</td>\n",
       "      <td>100</td>\n",
       "      <td>0.1050</td>\n",
       "      <td>0</td>\n",
       "      <td>0</td>\n",
       "      <td>10</td>\n",
       "      <td>0</td>\n",
       "      <td>19878</td>\n",
       "      <td>0.663</td>\n",
       "      <td>17</td>\n",
       "    </tr>\n",
       "    <tr>\n",
       "      <td>3</td>\n",
       "      <td>0.1311</td>\n",
       "      <td>1200</td>\n",
       "      <td>1200</td>\n",
       "      <td>1200</td>\n",
       "      <td>36</td>\n",
       "      <td>C</td>\n",
       "      <td>C2</td>\n",
       "      <td>54000</td>\n",
       "      <td>not verified</td>\n",
       "      <td>debt_consolidation</td>\n",
       "      <td>777</td>\n",
       "      <td>0.0547</td>\n",
       "      <td>0</td>\n",
       "      <td>0</td>\n",
       "      <td>5</td>\n",
       "      <td>0</td>\n",
       "      <td>2584</td>\n",
       "      <td>0.404</td>\n",
       "      <td>31</td>\n",
       "    </tr>\n",
       "    <tr>\n",
       "      <td>4</td>\n",
       "      <td>0.1357</td>\n",
       "      <td>10800</td>\n",
       "      <td>10800</td>\n",
       "      <td>10692</td>\n",
       "      <td>36</td>\n",
       "      <td>C</td>\n",
       "      <td>C3</td>\n",
       "      <td>32000</td>\n",
       "      <td>not verified</td>\n",
       "      <td>debt_consolidation</td>\n",
       "      <td>67</td>\n",
       "      <td>0.1163</td>\n",
       "      <td>0</td>\n",
       "      <td>1</td>\n",
       "      <td>14</td>\n",
       "      <td>0</td>\n",
       "      <td>3511</td>\n",
       "      <td>0.256</td>\n",
       "      <td>40</td>\n",
       "    </tr>\n",
       "  </tbody>\n",
       "</table>\n",
       "</div>"
      ],
      "text/plain": [
       "       X1     X4     X5     X6  X7 X8  X9    X13                X14  \\\n",
       "0  0.1189  25000  25000  19080  36  B  B4  85000  VERIFIED - income   \n",
       "1  0.1071   7000   7000    673  36  B  B5  65000       not verified   \n",
       "2  0.1699  25000  25000  24725  36  D  D3  70000  VERIFIED - income   \n",
       "3  0.1311   1200   1200   1200  36  C  C2  54000       not verified   \n",
       "4  0.1357  10800  10800  10692  36  C  C3  32000       not verified   \n",
       "\n",
       "                  X17  X19     X21  X22  X24  X27  X28    X29    X30  X31  \n",
       "0  debt_consolidation  941  0.1948    0    0   10    0  28854  0.521   42  \n",
       "1         credit_card  112  0.1429    0    0    7    0  33623  0.767    7  \n",
       "2  debt_consolidation  100  0.1050    0    0   10    0  19878  0.663   17  \n",
       "3  debt_consolidation  777  0.0547    0    0    5    0   2584  0.404   31  \n",
       "4  debt_consolidation   67  0.1163    0    1   14    0   3511  0.256   40  "
      ]
     },
     "execution_count": 205,
     "metadata": {},
     "output_type": "execute_result"
    }
   ],
   "source": [
    "train.head()"
   ]
  },
  {
   "cell_type": "code",
   "execution_count": 206,
   "metadata": {},
   "outputs": [],
   "source": [
    "le = preprocessing.LabelEncoder()\n",
    "\n",
    "train['X8'] = le.fit_transform(train['X8'].values)\n",
    "train['X9'] = le.fit_transform(train['X9'].values)\n",
    "train['X14'] = le.fit_transform(train['X14'].values)\n",
    "train['X17'] = le.fit_transform(train['X14'].values)\n"
   ]
  },
  {
   "cell_type": "code",
   "execution_count": 207,
   "metadata": {},
   "outputs": [
    {
     "name": "stdout",
     "output_type": "stream",
     "text": [
      "<class 'pandas.core.frame.DataFrame'>\n",
      "Int64Index: 242983 entries, 0 to 399999\n",
      "Data columns (total 19 columns):\n",
      "X1     242983 non-null float64\n",
      "X4     242983 non-null int64\n",
      "X5     242983 non-null int64\n",
      "X6     242983 non-null int64\n",
      "X7     242983 non-null int64\n",
      "X8     242983 non-null int32\n",
      "X9     242983 non-null int32\n",
      "X13    242983 non-null int32\n",
      "X14    242983 non-null int32\n",
      "X17    242983 non-null int64\n",
      "X19    242983 non-null int64\n",
      "X21    242983 non-null float64\n",
      "X22    242983 non-null int32\n",
      "X24    242983 non-null int32\n",
      "X27    242983 non-null int32\n",
      "X28    242983 non-null int32\n",
      "X29    242983 non-null int32\n",
      "X30    242983 non-null float64\n",
      "X31    242983 non-null int32\n",
      "dtypes: float64(3), int32(10), int64(6)\n",
      "memory usage: 27.8 MB\n"
     ]
    }
   ],
   "source": [
    "train.info()"
   ]
  },
  {
   "cell_type": "code",
   "execution_count": 208,
   "metadata": {},
   "outputs": [
    {
     "data": {
      "text/html": [
       "<div>\n",
       "<style scoped>\n",
       "    .dataframe tbody tr th:only-of-type {\n",
       "        vertical-align: middle;\n",
       "    }\n",
       "\n",
       "    .dataframe tbody tr th {\n",
       "        vertical-align: top;\n",
       "    }\n",
       "\n",
       "    .dataframe thead th {\n",
       "        text-align: right;\n",
       "    }\n",
       "</style>\n",
       "<table border=\"1\" class=\"dataframe\">\n",
       "  <thead>\n",
       "    <tr style=\"text-align: right;\">\n",
       "      <th></th>\n",
       "      <th>X1</th>\n",
       "      <th>X4</th>\n",
       "      <th>X5</th>\n",
       "      <th>X6</th>\n",
       "      <th>X7</th>\n",
       "      <th>X8</th>\n",
       "      <th>X9</th>\n",
       "      <th>X13</th>\n",
       "      <th>X14</th>\n",
       "      <th>X17</th>\n",
       "      <th>X19</th>\n",
       "      <th>X21</th>\n",
       "      <th>X22</th>\n",
       "      <th>X24</th>\n",
       "      <th>X27</th>\n",
       "      <th>X28</th>\n",
       "      <th>X29</th>\n",
       "      <th>X30</th>\n",
       "      <th>X31</th>\n",
       "    </tr>\n",
       "  </thead>\n",
       "  <tbody>\n",
       "    <tr>\n",
       "      <td>0</td>\n",
       "      <td>0.1189</td>\n",
       "      <td>25000</td>\n",
       "      <td>25000</td>\n",
       "      <td>19080</td>\n",
       "      <td>36</td>\n",
       "      <td>1</td>\n",
       "      <td>8</td>\n",
       "      <td>85000</td>\n",
       "      <td>0</td>\n",
       "      <td>0</td>\n",
       "      <td>941</td>\n",
       "      <td>0.1948</td>\n",
       "      <td>0</td>\n",
       "      <td>0</td>\n",
       "      <td>10</td>\n",
       "      <td>0</td>\n",
       "      <td>28854</td>\n",
       "      <td>0.521</td>\n",
       "      <td>42</td>\n",
       "    </tr>\n",
       "    <tr>\n",
       "      <td>1</td>\n",
       "      <td>0.1071</td>\n",
       "      <td>7000</td>\n",
       "      <td>7000</td>\n",
       "      <td>673</td>\n",
       "      <td>36</td>\n",
       "      <td>1</td>\n",
       "      <td>9</td>\n",
       "      <td>65000</td>\n",
       "      <td>2</td>\n",
       "      <td>2</td>\n",
       "      <td>112</td>\n",
       "      <td>0.1429</td>\n",
       "      <td>0</td>\n",
       "      <td>0</td>\n",
       "      <td>7</td>\n",
       "      <td>0</td>\n",
       "      <td>33623</td>\n",
       "      <td>0.767</td>\n",
       "      <td>7</td>\n",
       "    </tr>\n",
       "    <tr>\n",
       "      <td>2</td>\n",
       "      <td>0.1699</td>\n",
       "      <td>25000</td>\n",
       "      <td>25000</td>\n",
       "      <td>24725</td>\n",
       "      <td>36</td>\n",
       "      <td>3</td>\n",
       "      <td>17</td>\n",
       "      <td>70000</td>\n",
       "      <td>0</td>\n",
       "      <td>0</td>\n",
       "      <td>100</td>\n",
       "      <td>0.1050</td>\n",
       "      <td>0</td>\n",
       "      <td>0</td>\n",
       "      <td>10</td>\n",
       "      <td>0</td>\n",
       "      <td>19878</td>\n",
       "      <td>0.663</td>\n",
       "      <td>17</td>\n",
       "    </tr>\n",
       "    <tr>\n",
       "      <td>3</td>\n",
       "      <td>0.1311</td>\n",
       "      <td>1200</td>\n",
       "      <td>1200</td>\n",
       "      <td>1200</td>\n",
       "      <td>36</td>\n",
       "      <td>2</td>\n",
       "      <td>11</td>\n",
       "      <td>54000</td>\n",
       "      <td>2</td>\n",
       "      <td>2</td>\n",
       "      <td>777</td>\n",
       "      <td>0.0547</td>\n",
       "      <td>0</td>\n",
       "      <td>0</td>\n",
       "      <td>5</td>\n",
       "      <td>0</td>\n",
       "      <td>2584</td>\n",
       "      <td>0.404</td>\n",
       "      <td>31</td>\n",
       "    </tr>\n",
       "    <tr>\n",
       "      <td>4</td>\n",
       "      <td>0.1357</td>\n",
       "      <td>10800</td>\n",
       "      <td>10800</td>\n",
       "      <td>10692</td>\n",
       "      <td>36</td>\n",
       "      <td>2</td>\n",
       "      <td>12</td>\n",
       "      <td>32000</td>\n",
       "      <td>2</td>\n",
       "      <td>2</td>\n",
       "      <td>67</td>\n",
       "      <td>0.1163</td>\n",
       "      <td>0</td>\n",
       "      <td>1</td>\n",
       "      <td>14</td>\n",
       "      <td>0</td>\n",
       "      <td>3511</td>\n",
       "      <td>0.256</td>\n",
       "      <td>40</td>\n",
       "    </tr>\n",
       "  </tbody>\n",
       "</table>\n",
       "</div>"
      ],
      "text/plain": [
       "       X1     X4     X5     X6  X7  X8  X9    X13  X14  X17  X19     X21  X22  \\\n",
       "0  0.1189  25000  25000  19080  36   1   8  85000    0    0  941  0.1948    0   \n",
       "1  0.1071   7000   7000    673  36   1   9  65000    2    2  112  0.1429    0   \n",
       "2  0.1699  25000  25000  24725  36   3  17  70000    0    0  100  0.1050    0   \n",
       "3  0.1311   1200   1200   1200  36   2  11  54000    2    2  777  0.0547    0   \n",
       "4  0.1357  10800  10800  10692  36   2  12  32000    2    2   67  0.1163    0   \n",
       "\n",
       "   X24  X27  X28    X29    X30  X31  \n",
       "0    0   10    0  28854  0.521   42  \n",
       "1    0    7    0  33623  0.767    7  \n",
       "2    0   10    0  19878  0.663   17  \n",
       "3    0    5    0   2584  0.404   31  \n",
       "4    1   14    0   3511  0.256   40  "
      ]
     },
     "execution_count": 208,
     "metadata": {},
     "output_type": "execute_result"
    }
   ],
   "source": [
    "train.head()"
   ]
  },
  {
   "cell_type": "markdown",
   "metadata": {},
   "source": [
    "#### Convert string columns values to appropriate numeric data types in test data"
   ]
  },
  {
   "cell_type": "code",
   "execution_count": 209,
   "metadata": {},
   "outputs": [
    {
     "data": {
      "text/html": [
       "<div>\n",
       "<style scoped>\n",
       "    .dataframe tbody tr th:only-of-type {\n",
       "        vertical-align: middle;\n",
       "    }\n",
       "\n",
       "    .dataframe tbody tr th {\n",
       "        vertical-align: top;\n",
       "    }\n",
       "\n",
       "    .dataframe thead th {\n",
       "        text-align: right;\n",
       "    }\n",
       "</style>\n",
       "<table border=\"1\" class=\"dataframe\">\n",
       "  <thead>\n",
       "    <tr style=\"text-align: right;\">\n",
       "      <th></th>\n",
       "      <th>X4</th>\n",
       "      <th>X5</th>\n",
       "      <th>X6</th>\n",
       "      <th>X7</th>\n",
       "      <th>X8</th>\n",
       "      <th>X9</th>\n",
       "      <th>X13</th>\n",
       "      <th>X14</th>\n",
       "      <th>X17</th>\n",
       "      <th>X19</th>\n",
       "      <th>X21</th>\n",
       "      <th>X22</th>\n",
       "      <th>X24</th>\n",
       "      <th>X27</th>\n",
       "      <th>X28</th>\n",
       "      <th>X29</th>\n",
       "      <th>X30</th>\n",
       "      <th>X31</th>\n",
       "    </tr>\n",
       "  </thead>\n",
       "  <tbody>\n",
       "    <tr>\n",
       "      <td>0</td>\n",
       "      <td>$6,000</td>\n",
       "      <td>$6,000</td>\n",
       "      <td>$6,000</td>\n",
       "      <td>36 months</td>\n",
       "      <td>C</td>\n",
       "      <td>C5</td>\n",
       "      <td>68000.0</td>\n",
       "      <td>VERIFIED - income</td>\n",
       "      <td>debt_consolidation</td>\n",
       "      <td>430xx</td>\n",
       "      <td>28.31</td>\n",
       "      <td>0</td>\n",
       "      <td>1</td>\n",
       "      <td>18</td>\n",
       "      <td>0</td>\n",
       "      <td>19861</td>\n",
       "      <td>64.5</td>\n",
       "      <td>33</td>\n",
       "    </tr>\n",
       "    <tr>\n",
       "      <td>1</td>\n",
       "      <td>$24,000</td>\n",
       "      <td>$24,000</td>\n",
       "      <td>$24,000</td>\n",
       "      <td>36 months</td>\n",
       "      <td>A</td>\n",
       "      <td>A1</td>\n",
       "      <td>110480.0</td>\n",
       "      <td>VERIFIED - income</td>\n",
       "      <td>debt_consolidation</td>\n",
       "      <td>945xx</td>\n",
       "      <td>16.03</td>\n",
       "      <td>0</td>\n",
       "      <td>1</td>\n",
       "      <td>12</td>\n",
       "      <td>0</td>\n",
       "      <td>17001</td>\n",
       "      <td>26.2</td>\n",
       "      <td>36</td>\n",
       "    </tr>\n",
       "    <tr>\n",
       "      <td>2</td>\n",
       "      <td>$35,000</td>\n",
       "      <td>$35,000</td>\n",
       "      <td>$35,000</td>\n",
       "      <td>36 months</td>\n",
       "      <td>C</td>\n",
       "      <td>C2</td>\n",
       "      <td>86000.0</td>\n",
       "      <td>VERIFIED - income</td>\n",
       "      <td>debt_consolidation</td>\n",
       "      <td>195xx</td>\n",
       "      <td>32.49</td>\n",
       "      <td>0</td>\n",
       "      <td>0</td>\n",
       "      <td>16</td>\n",
       "      <td>0</td>\n",
       "      <td>25797</td>\n",
       "      <td>49.9</td>\n",
       "      <td>33</td>\n",
       "    </tr>\n",
       "    <tr>\n",
       "      <td>3</td>\n",
       "      <td>$10,000</td>\n",
       "      <td>$10,000</td>\n",
       "      <td>$10,000</td>\n",
       "      <td>60 months</td>\n",
       "      <td>D</td>\n",
       "      <td>D1</td>\n",
       "      <td>30000.0</td>\n",
       "      <td>VERIFIED - income source</td>\n",
       "      <td>debt_consolidation</td>\n",
       "      <td>921xx</td>\n",
       "      <td>32.96</td>\n",
       "      <td>0</td>\n",
       "      <td>1</td>\n",
       "      <td>13</td>\n",
       "      <td>1</td>\n",
       "      <td>9586</td>\n",
       "      <td>43.8</td>\n",
       "      <td>21</td>\n",
       "    </tr>\n",
       "    <tr>\n",
       "      <td>4</td>\n",
       "      <td>$24,000</td>\n",
       "      <td>$24,000</td>\n",
       "      <td>$24,000</td>\n",
       "      <td>60 months</td>\n",
       "      <td>B</td>\n",
       "      <td>B1</td>\n",
       "      <td>82500.0</td>\n",
       "      <td>VERIFIED - income</td>\n",
       "      <td>debt_consolidation</td>\n",
       "      <td>196xx</td>\n",
       "      <td>31.03</td>\n",
       "      <td>0</td>\n",
       "      <td>0</td>\n",
       "      <td>27</td>\n",
       "      <td>0</td>\n",
       "      <td>31842</td>\n",
       "      <td>41.3</td>\n",
       "      <td>43</td>\n",
       "    </tr>\n",
       "  </tbody>\n",
       "</table>\n",
       "</div>"
      ],
      "text/plain": [
       "        X4       X5       X6          X7 X8  X9       X13  \\\n",
       "0   $6,000   $6,000   $6,000   36 months  C  C5   68000.0   \n",
       "1  $24,000  $24,000  $24,000   36 months  A  A1  110480.0   \n",
       "2  $35,000  $35,000  $35,000   36 months  C  C2   86000.0   \n",
       "3  $10,000  $10,000  $10,000   60 months  D  D1   30000.0   \n",
       "4  $24,000  $24,000  $24,000   60 months  B  B1   82500.0   \n",
       "\n",
       "                        X14                 X17    X19    X21  X22  X24  X27  \\\n",
       "0         VERIFIED - income  debt_consolidation  430xx  28.31    0    1   18   \n",
       "1         VERIFIED - income  debt_consolidation  945xx  16.03    0    1   12   \n",
       "2         VERIFIED - income  debt_consolidation  195xx  32.49    0    0   16   \n",
       "3  VERIFIED - income source  debt_consolidation  921xx  32.96    0    1   13   \n",
       "4         VERIFIED - income  debt_consolidation  196xx  31.03    0    0   27   \n",
       "\n",
       "   X28    X29   X30  X31  \n",
       "0    0  19861  64.5   33  \n",
       "1    0  17001  26.2   36  \n",
       "2    0  25797  49.9   33  \n",
       "3    1   9586  43.8   21  \n",
       "4    0  31842  41.3   43  "
      ]
     },
     "execution_count": 209,
     "metadata": {},
     "output_type": "execute_result"
    }
   ],
   "source": [
    "test.head()"
   ]
  },
  {
   "cell_type": "code",
   "execution_count": 210,
   "metadata": {},
   "outputs": [],
   "source": [
    "test['X4'] = test['X4'].str.replace('$', '')\n",
    "test['X4'] = pd.to_numeric(test['X4'].str.replace(',', ''))\n",
    "test['X5'] = test['X5'].str.replace('$', '')\n",
    "test['X5'] = pd.to_numeric(test['X5'].str.replace(',', ''))\n",
    "test['X6'] = test['X6'].str.replace('$', '')\n",
    "test['X6'] = pd.to_numeric(test['X6'].str.replace(',', ''))\n",
    "test['X7'] = pd.to_numeric(test['X7'].str.replace(' months', ''))\n",
    "test['X19'] = pd.to_numeric(test['X19'].str.replace('x', ''))\n",
    "test['X21'] = test['X21']/100 # convert dti percentage to ratio\n",
    "test['X13'] = test['X13'].astype(int) # convert to interger type\n",
    "test['X30'] = test['X30']/100 # convert revolving utilization to ratio"
   ]
  },
  {
   "cell_type": "code",
   "execution_count": 211,
   "metadata": {},
   "outputs": [
    {
     "data": {
      "text/html": [
       "<div>\n",
       "<style scoped>\n",
       "    .dataframe tbody tr th:only-of-type {\n",
       "        vertical-align: middle;\n",
       "    }\n",
       "\n",
       "    .dataframe tbody tr th {\n",
       "        vertical-align: top;\n",
       "    }\n",
       "\n",
       "    .dataframe thead th {\n",
       "        text-align: right;\n",
       "    }\n",
       "</style>\n",
       "<table border=\"1\" class=\"dataframe\">\n",
       "  <thead>\n",
       "    <tr style=\"text-align: right;\">\n",
       "      <th></th>\n",
       "      <th>X7</th>\n",
       "      <th>X8</th>\n",
       "      <th>X9</th>\n",
       "      <th>X13</th>\n",
       "      <th>X14</th>\n",
       "      <th>X17</th>\n",
       "      <th>X19</th>\n",
       "      <th>X21</th>\n",
       "      <th>X22</th>\n",
       "      <th>X24</th>\n",
       "      <th>X27</th>\n",
       "      <th>X28</th>\n",
       "      <th>X29</th>\n",
       "      <th>X30</th>\n",
       "      <th>X31</th>\n",
       "    </tr>\n",
       "  </thead>\n",
       "  <tbody>\n",
       "    <tr>\n",
       "      <td>0</td>\n",
       "      <td>36</td>\n",
       "      <td>C</td>\n",
       "      <td>C5</td>\n",
       "      <td>68000</td>\n",
       "      <td>VERIFIED - income</td>\n",
       "      <td>debt_consolidation</td>\n",
       "      <td>430</td>\n",
       "      <td>0.2831</td>\n",
       "      <td>0</td>\n",
       "      <td>1</td>\n",
       "      <td>18</td>\n",
       "      <td>0</td>\n",
       "      <td>19861</td>\n",
       "      <td>0.645</td>\n",
       "      <td>33</td>\n",
       "    </tr>\n",
       "    <tr>\n",
       "      <td>1</td>\n",
       "      <td>36</td>\n",
       "      <td>A</td>\n",
       "      <td>A1</td>\n",
       "      <td>110480</td>\n",
       "      <td>VERIFIED - income</td>\n",
       "      <td>debt_consolidation</td>\n",
       "      <td>945</td>\n",
       "      <td>0.1603</td>\n",
       "      <td>0</td>\n",
       "      <td>1</td>\n",
       "      <td>12</td>\n",
       "      <td>0</td>\n",
       "      <td>17001</td>\n",
       "      <td>0.262</td>\n",
       "      <td>36</td>\n",
       "    </tr>\n",
       "    <tr>\n",
       "      <td>2</td>\n",
       "      <td>36</td>\n",
       "      <td>C</td>\n",
       "      <td>C2</td>\n",
       "      <td>86000</td>\n",
       "      <td>VERIFIED - income</td>\n",
       "      <td>debt_consolidation</td>\n",
       "      <td>195</td>\n",
       "      <td>0.3249</td>\n",
       "      <td>0</td>\n",
       "      <td>0</td>\n",
       "      <td>16</td>\n",
       "      <td>0</td>\n",
       "      <td>25797</td>\n",
       "      <td>0.499</td>\n",
       "      <td>33</td>\n",
       "    </tr>\n",
       "    <tr>\n",
       "      <td>3</td>\n",
       "      <td>60</td>\n",
       "      <td>D</td>\n",
       "      <td>D1</td>\n",
       "      <td>30000</td>\n",
       "      <td>VERIFIED - income source</td>\n",
       "      <td>debt_consolidation</td>\n",
       "      <td>921</td>\n",
       "      <td>0.3296</td>\n",
       "      <td>0</td>\n",
       "      <td>1</td>\n",
       "      <td>13</td>\n",
       "      <td>1</td>\n",
       "      <td>9586</td>\n",
       "      <td>0.438</td>\n",
       "      <td>21</td>\n",
       "    </tr>\n",
       "    <tr>\n",
       "      <td>4</td>\n",
       "      <td>60</td>\n",
       "      <td>B</td>\n",
       "      <td>B1</td>\n",
       "      <td>82500</td>\n",
       "      <td>VERIFIED - income</td>\n",
       "      <td>debt_consolidation</td>\n",
       "      <td>196</td>\n",
       "      <td>0.3103</td>\n",
       "      <td>0</td>\n",
       "      <td>0</td>\n",
       "      <td>27</td>\n",
       "      <td>0</td>\n",
       "      <td>31842</td>\n",
       "      <td>0.413</td>\n",
       "      <td>43</td>\n",
       "    </tr>\n",
       "    <tr>\n",
       "      <td>5</td>\n",
       "      <td>60</td>\n",
       "      <td>B</td>\n",
       "      <td>B3</td>\n",
       "      <td>64709</td>\n",
       "      <td>VERIFIED - income source</td>\n",
       "      <td>car</td>\n",
       "      <td>762</td>\n",
       "      <td>0.3433</td>\n",
       "      <td>0</td>\n",
       "      <td>0</td>\n",
       "      <td>8</td>\n",
       "      <td>0</td>\n",
       "      <td>18652</td>\n",
       "      <td>0.648</td>\n",
       "      <td>21</td>\n",
       "    </tr>\n",
       "  </tbody>\n",
       "</table>\n",
       "</div>"
      ],
      "text/plain": [
       "   X7 X8  X9     X13                       X14                 X17  X19  \\\n",
       "0  36  C  C5   68000         VERIFIED - income  debt_consolidation  430   \n",
       "1  36  A  A1  110480         VERIFIED - income  debt_consolidation  945   \n",
       "2  36  C  C2   86000         VERIFIED - income  debt_consolidation  195   \n",
       "3  60  D  D1   30000  VERIFIED - income source  debt_consolidation  921   \n",
       "4  60  B  B1   82500         VERIFIED - income  debt_consolidation  196   \n",
       "5  60  B  B3   64709  VERIFIED - income source                 car  762   \n",
       "\n",
       "      X21  X22  X24  X27  X28    X29    X30  X31  \n",
       "0  0.2831    0    1   18    0  19861  0.645   33  \n",
       "1  0.1603    0    1   12    0  17001  0.262   36  \n",
       "2  0.3249    0    0   16    0  25797  0.499   33  \n",
       "3  0.3296    0    1   13    1   9586  0.438   21  \n",
       "4  0.3103    0    0   27    0  31842  0.413   43  \n",
       "5  0.3433    0    0    8    0  18652  0.648   21  "
      ]
     },
     "execution_count": 211,
     "metadata": {},
     "output_type": "execute_result"
    }
   ],
   "source": [
    "test.iloc[0:6, 3:20]"
   ]
  },
  {
   "cell_type": "markdown",
   "metadata": {},
   "source": [
    "#### Fit label encorder and return encoded integer labels for categorical string features for test data"
   ]
  },
  {
   "cell_type": "code",
   "execution_count": 212,
   "metadata": {},
   "outputs": [],
   "source": [
    "test['X8'] = le.fit_transform(test['X8'].values)\n",
    "test['X9'] = le.fit_transform(test['X9'].values)\n",
    "test['X14'] = le.fit_transform(test['X14'].values)\n",
    "test['X17'] = le.fit_transform(test['X17'].values)"
   ]
  },
  {
   "cell_type": "markdown",
   "metadata": {},
   "source": [
    "#### Separate the training data predictors from the targets"
   ]
  },
  {
   "cell_type": "code",
   "execution_count": 213,
   "metadata": {},
   "outputs": [],
   "source": [
    "target = train['X1']\n",
    "predictors = train.drop(['X1'], axis=1)"
   ]
  },
  {
   "cell_type": "markdown",
   "metadata": {},
   "source": [
    "#### Scaling our data"
   ]
  },
  {
   "cell_type": "code",
   "execution_count": 178,
   "metadata": {},
   "outputs": [],
   "source": [
    "# from sklearn.preprocessing import StandardScaler\n",
    "# sc = StandardScaler()\n",
    "# predictors = sc.fit_transform(predictors)\n",
    "# test = sc.transform(test)"
   ]
  },
  {
   "cell_type": "code",
   "execution_count": 182,
   "metadata": {},
   "outputs": [],
   "source": [
    "# predictors = pd.DataFrame(predictors)"
   ]
  },
  {
   "cell_type": "code",
   "execution_count": 215,
   "metadata": {},
   "outputs": [
    {
     "name": "stdout",
     "output_type": "stream",
     "text": [
      "<class 'pandas.core.frame.DataFrame'>\n",
      "Int64Index: 242983 entries, 0 to 399999\n",
      "Data columns (total 18 columns):\n",
      "X4     242983 non-null int64\n",
      "X5     242983 non-null int64\n",
      "X6     242983 non-null int64\n",
      "X7     242983 non-null int64\n",
      "X8     242983 non-null int32\n",
      "X9     242983 non-null int32\n",
      "X13    242983 non-null int32\n",
      "X14    242983 non-null int32\n",
      "X17    242983 non-null int64\n",
      "X19    242983 non-null int64\n",
      "X21    242983 non-null float64\n",
      "X22    242983 non-null int32\n",
      "X24    242983 non-null int32\n",
      "X27    242983 non-null int32\n",
      "X28    242983 non-null int32\n",
      "X29    242983 non-null int32\n",
      "X30    242983 non-null float64\n",
      "X31    242983 non-null int32\n",
      "dtypes: float64(2), int32(10), int64(6)\n",
      "memory usage: 26.0 MB\n"
     ]
    }
   ],
   "source": [
    "predictors.info()"
   ]
  },
  {
   "cell_type": "code",
   "execution_count": 216,
   "metadata": {},
   "outputs": [
    {
     "name": "stdout",
     "output_type": "stream",
     "text": [
      "<class 'pandas.core.frame.DataFrame'>\n",
      "RangeIndex: 80000 entries, 0 to 79999\n",
      "Data columns (total 18 columns):\n",
      "X4     80000 non-null int64\n",
      "X5     80000 non-null int64\n",
      "X6     80000 non-null int64\n",
      "X7     80000 non-null int64\n",
      "X8     80000 non-null int32\n",
      "X9     80000 non-null int32\n",
      "X13    80000 non-null int32\n",
      "X14    80000 non-null int32\n",
      "X17    80000 non-null int32\n",
      "X19    80000 non-null int64\n",
      "X21    80000 non-null float64\n",
      "X22    80000 non-null int64\n",
      "X24    80000 non-null int64\n",
      "X27    80000 non-null int64\n",
      "X28    80000 non-null int64\n",
      "X29    80000 non-null int64\n",
      "X30    80000 non-null float64\n",
      "X31    80000 non-null int64\n",
      "dtypes: float64(2), int32(5), int64(11)\n",
      "memory usage: 9.5 MB\n"
     ]
    }
   ],
   "source": [
    "test.info()"
   ]
  },
  {
   "cell_type": "markdown",
   "metadata": {},
   "source": [
    "### Step 2: Build Machine Learning model in Python to predict the interest rates assigned to loans"
   ]
  },
  {
   "cell_type": "markdown",
   "metadata": {},
   "source": [
    "#### Train a DecisionTreeRegressor"
   ]
  },
  {
   "cell_type": "code",
   "execution_count": 226,
   "metadata": {},
   "outputs": [
    {
     "data": {
      "text/plain": [
       "DecisionTreeRegressor(criterion='mse', max_depth=8, max_features=None,\n",
       "                      max_leaf_nodes=None, min_impurity_decrease=0.0,\n",
       "                      min_impurity_split=None, min_samples_leaf=0.13,\n",
       "                      min_samples_split=2, min_weight_fraction_leaf=0.0,\n",
       "                      presort=False, random_state=3, splitter='best')"
      ]
     },
     "execution_count": 226,
     "metadata": {},
     "output_type": "execute_result"
    }
   ],
   "source": [
    "import numpy as np\n",
    "import matplotlib.pyplot as plt\n",
    "import pandas as pd\n",
    "from sklearn.metrics import classification_report\n",
    "from sklearn.model_selection import cross_val_score\n",
    "from sklearn.tree import DecisionTreeRegressor\n",
    "\n",
    "dt = DecisionTreeRegressor(max_depth=8,\n",
    "                           min_samples_leaf=0.13,\n",
    "                           random_state=3)\n",
    "\n",
    "# Fit dt to the training set\n",
    "dt.fit(predictors, target)"
   ]
  },
  {
   "cell_type": "code",
   "execution_count": 220,
   "metadata": {},
   "outputs": [
    {
     "name": "stdout",
     "output_type": "stream",
     "text": [
      "RMSE on training data of dt is: 0.01\n"
     ]
    }
   ],
   "source": [
    "from sklearn.metrics import mean_squared_error as MSE\n",
    "\n",
    "# Predict interest rates for test data\n",
    "y_pred = dt.predict(test)\n",
    "\n",
    "# Predict interest rates of training data\n",
    "train_pred = dt.predict(predictors)\n",
    "\n",
    "# Compute mse_dt\n",
    "mse_dt = MSE(target, train_pred)\n",
    "\n",
    "# Compute rmse_dt\n",
    "rmse_dt = mse_dt**(1/2)\n",
    "\n",
    "# Print rmse_dt\n",
    "print(\"RMSE on training data of dt is: {:.2f}\".format(rmse_dt))"
   ]
  },
  {
   "cell_type": "code",
   "execution_count": 227,
   "metadata": {},
   "outputs": [
    {
     "name": "stdout",
     "output_type": "stream",
     "text": [
      "CV RMSE on training data for dt is: 0.01\n"
     ]
    }
   ],
   "source": [
    "from sklearn.model_selection import cross_val_score\n",
    "# Compute the array containing the 10-folds CV MSEs\n",
    "MSE_CV_scores = - cross_val_score(dt, predictors, target, cv=10, \n",
    "                                  scoring='neg_mean_squared_error', \n",
    "                                  n_jobs=-1) \n",
    "\n",
    "# Compute the 10-folds CV RMSE\n",
    "RMSE_CV = (MSE_CV_scores.mean())**(1/2)\n",
    "\n",
    "# Print RMSE_CV\n",
    "print('CV RMSE on training data for dt is: {:.2f}'.format(RMSE_CV))"
   ]
  },
  {
   "cell_type": "markdown",
   "metadata": {},
   "source": [
    "#### Now we instantiate a DecisionTreeRegressor dt with different parameters (max_dept is decreased from 8 to 4, min_samples_leaf is doubled from 0.13 to 0.26)"
   ]
  },
  {
   "cell_type": "code",
   "execution_count": 228,
   "metadata": {},
   "outputs": [
    {
     "name": "stdout",
     "output_type": "stream",
     "text": [
      "CV RMSE on training data for dt is: 0.03\n"
     ]
    }
   ],
   "source": [
    "SEED = 1\n",
    "\n",
    "# Instantiate a DecisionTreeRegressor dt with different parameters\n",
    "dt = DecisionTreeRegressor(max_depth=4, min_samples_leaf=0.26, random_state=SEED)\n",
    "\n",
    "\n",
    "# Compute the array containing the 10-folds CV MSEs\n",
    "MSE_CV_scores = - cross_val_score(dt, predictors, target, cv=10, \n",
    "                                  scoring='neg_mean_squared_error', \n",
    "                                  n_jobs=-1) \n",
    "\n",
    "# Compute the 10-folds CV RMSE\n",
    "RMSE_CV = (MSE_CV_scores.mean())**(1/2)\n",
    "\n",
    "# Print RMSE_CV\n",
    "print('CV RMSE on training data for dt is: {:.2f}'.format(RMSE_CV))"
   ]
  },
  {
   "cell_type": "code",
   "execution_count": 230,
   "metadata": {},
   "outputs": [
    {
     "name": "stdout",
     "output_type": "stream",
     "text": [
      "RMSE on training data for dt is: 0.03\n"
     ]
    }
   ],
   "source": [
    "# Predict interest rates for test data\n",
    "y_pred = dt.predict(test)\n",
    "\n",
    "# Fit dt to the training set\n",
    "dt.fit(predictors, target)\n",
    "\n",
    "# Predict the labels of the training set\n",
    "y_pred_train = dt.predict(predictors)\n",
    "\n",
    "# Evaluate the training set RMSE of dt\n",
    "RMSE_train = (MSE(target, y_pred_train))**(1/2)\n",
    "\n",
    "# Print RMSE_train\n",
    "print('RMSE on training data for dt is: {:.2f}'.format(RMSE_train))"
   ]
  },
  {
   "cell_type": "markdown",
   "metadata": {},
   "source": [
    "#### Train a RandomForestRegressor"
   ]
  },
  {
   "cell_type": "code",
   "execution_count": 231,
   "metadata": {},
   "outputs": [],
   "source": [
    "from sklearn.ensemble import RandomForestRegressor\n",
    "# Set seed for reproducibility\n",
    "SEED = 1"
   ]
  },
  {
   "cell_type": "code",
   "execution_count": 234,
   "metadata": {},
   "outputs": [],
   "source": [
    "# Instantiate a random forests regressor 'rf' 400 estimators\n",
    "rf = RandomForestRegressor(n_estimators=400,\n",
    "min_samples_leaf=0.12,\n",
    "random_state=SEED)"
   ]
  },
  {
   "cell_type": "code",
   "execution_count": 236,
   "metadata": {},
   "outputs": [
    {
     "name": "stdout",
     "output_type": "stream",
     "text": [
      "RMSE on training data of rf is: 0.02\n"
     ]
    }
   ],
   "source": [
    "# Fit 'rf' to the training set\n",
    "rf.fit(predictors, target)\n",
    "# Predict the test set labels 'y_pred'\n",
    "#y_pred = rf.predict(test)\n",
    "y_pred_train = rf.predict(predictors)\n",
    "# Evaluate the train set RMSE\n",
    "rmse_train = MSE(target, y_pred_train)**(1/2)\n",
    "# Print the train set RMSE\n",
    "print('RMSE on training data of rf is: {:.2f}'.format(rmse_train))"
   ]
  },
  {
   "cell_type": "code",
   "execution_count": 237,
   "metadata": {},
   "outputs": [],
   "source": [
    "# Predict the test set labels 'y_pred'\n",
    "y_pred = rf.predict(test)"
   ]
  },
  {
   "cell_type": "code",
   "execution_count": 250,
   "metadata": {},
   "outputs": [
    {
     "name": "stdout",
     "output_type": "stream",
     "text": [
      "CV RMSE on training data for rf is: 0.02\n"
     ]
    }
   ],
   "source": [
    "from sklearn.model_selection import cross_val_score\n",
    "# Compute the array containing the 10-folds CV MSEs\n",
    "MSE_CV_scores = - cross_val_score(rf, predictors, target, cv=10, \n",
    "                                  scoring='neg_mean_squared_error', \n",
    "                                  n_jobs=-1) \n",
    "\n",
    "# Compute the 10-folds CV RMSE\n",
    "RMSE_CV = (MSE_CV_scores.mean())**(1/2)\n",
    "\n",
    "# Print RMSE_CV\n",
    "print('CV RMSE on training data for rf is: {:.2f}'.format(RMSE_CV))"
   ]
  },
  {
   "cell_type": "code",
   "execution_count": 240,
   "metadata": {},
   "outputs": [
    {
     "data": {
      "image/png": "[encoded data removed]",
      "text/plain": [
       "<Figure size 432x288 with 1 Axes>"
      ]
     },
     "metadata": {
      "needs_background": "light"
     },
     "output_type": "display_data"
    }
   ],
   "source": [
    "import matplotlib.pyplot as plt\n",
    "# Create a pd.Series of features importances\n",
    "importances_rf = pd.Series(rf.feature_importances_,\n",
    "index = test.columns)\n",
    "# Sort importances_rf\n",
    "sorted_importances_rf = importances_rf.sort_values()\n",
    "# Make a horizontal bar plot\n",
    "sorted_importances_rf.plot(kind='barh', color='blue')\n",
    "plt.show()"
   ]
  },
  {
   "cell_type": "markdown",
   "metadata": {},
   "source": [
    "#### Train the Gradient Boost Reegressor model on the training data and predict on the test data to get the loan rates"
   ]
  },
  {
   "cell_type": "code",
   "execution_count": 252,
   "metadata": {},
   "outputs": [
    {
     "name": "stdout",
     "output_type": "stream",
     "text": [
      "RMSE of train set for gb: 0.007\n"
     ]
    }
   ],
   "source": [
    "# Import GradientBoostingRegressor\n",
    "from sklearn.ensemble import GradientBoostingRegressor\n",
    "\n",
    "# Instantiate gb\n",
    "gb = GradientBoostingRegressor(max_depth=4,\n",
    "                               n_estimators=200,\n",
    "                               random_state=2)\n",
    "\n",
    "# Fit gb to the training set\n",
    "gb.fit(predictors, target)\n",
    "\n",
    "# Predict train set lables\n",
    "y_train_pred = gb.predict(predictors)\n",
    "\n",
    "# Predict test set labels\n",
    "y_pred_Gboost = gb.predict(test)\n",
    "\n",
    "# Import mean_squared_error as MSE\n",
    "from sklearn.metrics import mean_squared_error as MSE\n",
    "\n",
    "# Compute MSE\n",
    "mse_train = MSE(target, y_train_pred)\n",
    "\n",
    "# Compute RMSE\n",
    "rmse_train = mse_train**(1/2)\n",
    "\n",
    "# Print RMSE\n",
    "print('RMSE of train set for gb: {:.3f}'.format(rmse_train))"
   ]
  },
  {
   "cell_type": "code",
   "execution_count": 253,
   "metadata": {},
   "outputs": [
    {
     "name": "stdout",
     "output_type": "stream",
     "text": [
      "CV RMSE on training data for rf is: 0.01\n"
     ]
    }
   ],
   "source": [
    "from sklearn.model_selection import cross_val_score\n",
    "# Compute the array containing the 10-folds CV MSEs\n",
    "MSE_CV_scores = - cross_val_score(gb, predictors, target, cv=10, \n",
    "                                  scoring='neg_mean_squared_error', \n",
    "                                  n_jobs=-1) \n",
    "\n",
    "# Compute the 10-folds CV RMSE\n",
    "RMSE_CV = (MSE_CV_scores.mean())**(1/2)\n",
    "\n",
    "# Print RMSE_CV\n",
    "print('CV RMSE on training data for rf is: {:.2f}'.format(RMSE_CV))"
   ]
  },
  {
   "cell_type": "markdown",
   "metadata": {},
   "source": [
    "#### Train the RidgeCV regression model on the training data"
   ]
  },
  {
   "cell_type": "code",
   "execution_count": 137,
   "metadata": {},
   "outputs": [
    {
     "data": {
      "text/plain": [
       "10.0"
      ]
     },
     "execution_count": 137,
     "metadata": {},
     "output_type": "execute_result"
    }
   ],
   "source": [
    "ridge = RidgeCV(cv=10)\n",
    "predictor = ridge.fit(predictors, target)\n",
    "ridge.alpha_"
   ]
  },
  {
   "cell_type": "markdown",
   "metadata": {},
   "source": [
    "#### Using trained RidgeCV regression model to predict interest rates of training and test data"
   ]
  },
  {
   "cell_type": "code",
   "execution_count": 139,
   "metadata": {},
   "outputs": [],
   "source": [
    "train_pred = predictor.predict(predictors)"
   ]
  },
  {
   "cell_type": "code",
   "execution_count": 140,
   "metadata": {},
   "outputs": [
    {
     "data": {
      "text/plain": [
       "(80000,)"
      ]
     },
     "execution_count": 140,
     "metadata": {},
     "output_type": "execute_result"
    }
   ],
   "source": [
    "test['X30'].shape"
   ]
  },
  {
   "cell_type": "code",
   "execution_count": 141,
   "metadata": {},
   "outputs": [],
   "source": [
    "ridge_test_pred = predictor.predict(test)"
   ]
  },
  {
   "cell_type": "code",
   "execution_count": 76,
   "metadata": {},
   "outputs": [
    {
     "name": "stdout",
     "output_type": "stream",
     "text": [
      "RMSE on training data:  0.009024720254823652\n"
     ]
    }
   ],
   "source": [
    "print('RMSE on training data: ', np.sqrt(mean_squared_error(target, train_pred)))"
   ]
  },
  {
   "cell_type": "markdown",
   "metadata": {},
   "source": [
    "An RMSE of 0.009 doesn't seem to be bad, especially for a general linear regression model using that only uses ridge regression to account for potential multicollineararity between features."
   ]
  },
  {
   "cell_type": "markdown",
   "metadata": {},
   "source": [
    "#### Train the Extreme Gradient Booster (xgb) model on a train_test_split of the training data with a manually-tuned set of hyperparameters"
   ]
  },
  {
   "cell_type": "markdown",
   "metadata": {},
   "source": [
    "We will split the training set into a training and validation set to make sure our model doesn't significantly overfit our training data and perform poorly on our test data."
   ]
  },
  {
   "cell_type": "code",
   "execution_count": 242,
   "metadata": {},
   "outputs": [],
   "source": [
    "import xgboost as xgb\n",
    "from xgboost import plot_importance"
   ]
  },
  {
   "cell_type": "code",
   "execution_count": 243,
   "metadata": {},
   "outputs": [],
   "source": [
    "X_train, X_test, y_train, y_test = train_test_split(\n",
    "    predictors,\n",
    "    target,\n",
    "    test_size=.2,\n",
    "    random_state=42)"
   ]
  },
  {
   "cell_type": "code",
   "execution_count": 244,
   "metadata": {},
   "outputs": [],
   "source": [
    "dtrain = xgb.DMatrix(X_train, label=y_train)\n",
    "dtest = xgb.DMatrix(X_test, label=y_test)"
   ]
  },
  {
   "cell_type": "code",
   "execution_count": 245,
   "metadata": {},
   "outputs": [],
   "source": [
    "# parameter grid for xgb model\n",
    "param_dict = {\n",
    "    # Parameters that we are going to tune. See discussion below for explanation of \n",
    "    # parameters and tuning\n",
    "    'max_depth':6, \n",
    "    'min_child_weight': 1,\n",
    "    'eta':.1,\n",
    "    'subsample': 1,\n",
    "    'colsample_bytree': 1,\n",
    "    # Other parameters\n",
    "    'objective':'reg:linear',\n",
    "    'eval_metric':'rmse'\n",
    "}"
   ]
  },
  {
   "cell_type": "code",
   "execution_count": 246,
   "metadata": {},
   "outputs": [
    {
     "name": "stdout",
     "output_type": "stream",
     "text": [
      "[21:25:07] WARNING: C:/Users/Administrator/workspace/xgboost-win64_release_1.1.0/src/objective/regression_obj.cu:170: reg:linear is now deprecated in favor of reg:squarederror.\n",
      "[0]\tTest-rmse:0.32727\n",
      "Will train until Test-rmse hasn't improved in 10 rounds.\n",
      "[1]\tTest-rmse:0.29457\n",
      "[2]\tTest-rmse:0.26515\n",
      "[3]\tTest-rmse:0.23867\n",
      "[4]\tTest-rmse:0.21483\n",
      "[5]\tTest-rmse:0.19339\n",
      "[6]\tTest-rmse:0.17409\n",
      "[7]\tTest-rmse:0.15673\n",
      "[8]\tTest-rmse:0.14110\n",
      "[9]\tTest-rmse:0.12704\n",
      "[10]\tTest-rmse:0.11440\n",
      "[11]\tTest-rmse:0.10302\n",
      "[12]\tTest-rmse:0.09279\n",
      "[13]\tTest-rmse:0.08359\n",
      "[14]\tTest-rmse:0.07532\n",
      "[15]\tTest-rmse:0.06788\n",
      "[16]\tTest-rmse:0.06119\n",
      "[17]\tTest-rmse:0.05519\n",
      "[18]\tTest-rmse:0.04979\n",
      "[19]\tTest-rmse:0.04495\n",
      "[20]\tTest-rmse:0.04060\n",
      "[21]\tTest-rmse:0.03671\n",
      "[22]\tTest-rmse:0.03322\n",
      "[23]\tTest-rmse:0.03010\n",
      "[24]\tTest-rmse:0.02731\n",
      "[25]\tTest-rmse:0.02482\n",
      "[26]\tTest-rmse:0.02260\n",
      "[27]\tTest-rmse:0.02062\n",
      "[28]\tTest-rmse:0.01887\n",
      "[29]\tTest-rmse:0.01732\n",
      "[30]\tTest-rmse:0.01595\n",
      "[31]\tTest-rmse:0.01475\n",
      "[32]\tTest-rmse:0.01370\n",
      "[33]\tTest-rmse:0.01278\n",
      "[34]\tTest-rmse:0.01198\n",
      "[35]\tTest-rmse:0.01129\n",
      "[36]\tTest-rmse:0.01070\n",
      "[37]\tTest-rmse:0.01019\n",
      "[38]\tTest-rmse:0.00976\n",
      "[39]\tTest-rmse:0.00939\n",
      "[40]\tTest-rmse:0.00909\n",
      "[41]\tTest-rmse:0.00883\n",
      "[42]\tTest-rmse:0.00862\n",
      "[43]\tTest-rmse:0.00844\n",
      "[44]\tTest-rmse:0.00829\n",
      "[45]\tTest-rmse:0.00816\n",
      "[46]\tTest-rmse:0.00806\n",
      "[47]\tTest-rmse:0.00797\n",
      "[48]\tTest-rmse:0.00790\n",
      "[49]\tTest-rmse:0.00782\n",
      "[50]\tTest-rmse:0.00777\n",
      "[51]\tTest-rmse:0.00773\n",
      "[52]\tTest-rmse:0.00770\n",
      "[53]\tTest-rmse:0.00766\n",
      "[54]\tTest-rmse:0.00763\n",
      "[55]\tTest-rmse:0.00760\n",
      "[56]\tTest-rmse:0.00757\n",
      "[57]\tTest-rmse:0.00755\n",
      "[58]\tTest-rmse:0.00752\n",
      "[59]\tTest-rmse:0.00750\n",
      "[60]\tTest-rmse:0.00748\n",
      "[61]\tTest-rmse:0.00747\n",
      "[62]\tTest-rmse:0.00747\n",
      "[63]\tTest-rmse:0.00746\n",
      "[64]\tTest-rmse:0.00744\n",
      "[65]\tTest-rmse:0.00741\n",
      "[66]\tTest-rmse:0.00741\n",
      "[67]\tTest-rmse:0.00741\n",
      "[68]\tTest-rmse:0.00740\n",
      "[69]\tTest-rmse:0.00740\n",
      "[70]\tTest-rmse:0.00738\n",
      "[71]\tTest-rmse:0.00737\n",
      "[72]\tTest-rmse:0.00736\n",
      "[73]\tTest-rmse:0.00735\n",
      "[74]\tTest-rmse:0.00735\n",
      "[75]\tTest-rmse:0.00734\n",
      "[76]\tTest-rmse:0.00733\n",
      "[77]\tTest-rmse:0.00733\n",
      "[78]\tTest-rmse:0.00733\n",
      "[79]\tTest-rmse:0.00732\n",
      "[80]\tTest-rmse:0.00731\n",
      "[81]\tTest-rmse:0.00731\n",
      "[82]\tTest-rmse:0.00731\n",
      "[83]\tTest-rmse:0.00730\n",
      "[84]\tTest-rmse:0.00730\n",
      "[85]\tTest-rmse:0.00730\n",
      "[86]\tTest-rmse:0.00730\n",
      "[87]\tTest-rmse:0.00729\n",
      "[88]\tTest-rmse:0.00729\n",
      "[89]\tTest-rmse:0.00729\n",
      "[90]\tTest-rmse:0.00729\n",
      "[91]\tTest-rmse:0.00728\n",
      "[92]\tTest-rmse:0.00727\n",
      "[93]\tTest-rmse:0.00726\n",
      "[94]\tTest-rmse:0.00726\n",
      "[95]\tTest-rmse:0.00726\n",
      "[96]\tTest-rmse:0.00725\n",
      "[97]\tTest-rmse:0.00725\n",
      "[98]\tTest-rmse:0.00724\n",
      "[99]\tTest-rmse:0.00724\n",
      "[100]\tTest-rmse:0.00724\n",
      "[101]\tTest-rmse:0.00724\n",
      "[102]\tTest-rmse:0.00724\n",
      "[103]\tTest-rmse:0.00724\n",
      "[104]\tTest-rmse:0.00724\n",
      "[105]\tTest-rmse:0.00724\n",
      "[106]\tTest-rmse:0.00724\n",
      "[107]\tTest-rmse:0.00724\n",
      "[108]\tTest-rmse:0.00723\n",
      "[109]\tTest-rmse:0.00723\n",
      "[110]\tTest-rmse:0.00723\n",
      "[111]\tTest-rmse:0.00722\n",
      "[112]\tTest-rmse:0.00722\n",
      "[113]\tTest-rmse:0.00721\n",
      "[114]\tTest-rmse:0.00721\n",
      "[115]\tTest-rmse:0.00721\n",
      "[116]\tTest-rmse:0.00721\n",
      "[117]\tTest-rmse:0.00720\n",
      "[118]\tTest-rmse:0.00720\n",
      "[119]\tTest-rmse:0.00720\n",
      "[120]\tTest-rmse:0.00720\n",
      "[121]\tTest-rmse:0.00719\n",
      "[122]\tTest-rmse:0.00719\n",
      "[123]\tTest-rmse:0.00719\n",
      "[124]\tTest-rmse:0.00719\n",
      "[125]\tTest-rmse:0.00719\n",
      "[126]\tTest-rmse:0.00718\n",
      "[127]\tTest-rmse:0.00718\n",
      "[128]\tTest-rmse:0.00718\n",
      "[129]\tTest-rmse:0.00718\n",
      "[130]\tTest-rmse:0.00718\n",
      "[131]\tTest-rmse:0.00718\n",
      "[132]\tTest-rmse:0.00718\n",
      "[133]\tTest-rmse:0.00718\n",
      "[134]\tTest-rmse:0.00717\n",
      "[135]\tTest-rmse:0.00717\n",
      "[136]\tTest-rmse:0.00717\n",
      "[137]\tTest-rmse:0.00717\n",
      "[138]\tTest-rmse:0.00717\n",
      "[139]\tTest-rmse:0.00717\n",
      "[140]\tTest-rmse:0.00717\n",
      "[141]\tTest-rmse:0.00717\n",
      "[142]\tTest-rmse:0.00716\n",
      "[143]\tTest-rmse:0.00716\n",
      "[144]\tTest-rmse:0.00716\n",
      "[145]\tTest-rmse:0.00716\n",
      "[146]\tTest-rmse:0.00716\n",
      "[147]\tTest-rmse:0.00716\n",
      "[148]\tTest-rmse:0.00716\n",
      "[149]\tTest-rmse:0.00715\n",
      "[150]\tTest-rmse:0.00715\n",
      "[151]\tTest-rmse:0.00715\n",
      "[152]\tTest-rmse:0.00715\n",
      "[153]\tTest-rmse:0.00715\n",
      "[154]\tTest-rmse:0.00715\n",
      "[155]\tTest-rmse:0.00714\n",
      "[156]\tTest-rmse:0.00714\n",
      "[157]\tTest-rmse:0.00714\n",
      "[158]\tTest-rmse:0.00714\n",
      "[159]\tTest-rmse:0.00714\n",
      "[160]\tTest-rmse:0.00714\n",
      "[161]\tTest-rmse:0.00714\n",
      "[162]\tTest-rmse:0.00714\n",
      "[163]\tTest-rmse:0.00714\n",
      "[164]\tTest-rmse:0.00714\n",
      "[165]\tTest-rmse:0.00714\n",
      "[166]\tTest-rmse:0.00714\n",
      "[167]\tTest-rmse:0.00713\n",
      "[168]\tTest-rmse:0.00713\n",
      "[169]\tTest-rmse:0.00713\n",
      "[170]\tTest-rmse:0.00713\n",
      "[171]\tTest-rmse:0.00713\n",
      "[172]\tTest-rmse:0.00713\n",
      "[173]\tTest-rmse:0.00712\n",
      "[174]\tTest-rmse:0.00712\n",
      "[175]\tTest-rmse:0.00712\n",
      "[176]\tTest-rmse:0.00712\n",
      "[177]\tTest-rmse:0.00712\n",
      "[178]\tTest-rmse:0.00712\n",
      "[179]\tTest-rmse:0.00712\n",
      "[180]\tTest-rmse:0.00712\n",
      "[181]\tTest-rmse:0.00712\n",
      "[182]\tTest-rmse:0.00711\n",
      "[183]\tTest-rmse:0.00711\n",
      "[184]\tTest-rmse:0.00711\n",
      "[185]\tTest-rmse:0.00711\n",
      "[186]\tTest-rmse:0.00711\n",
      "[187]\tTest-rmse:0.00711\n",
      "[188]\tTest-rmse:0.00711\n",
      "[189]\tTest-rmse:0.00711\n",
      "[190]\tTest-rmse:0.00711\n",
      "[191]\tTest-rmse:0.00711\n",
      "[192]\tTest-rmse:0.00710\n",
      "[193]\tTest-rmse:0.00710\n",
      "[194]\tTest-rmse:0.00710\n",
      "[195]\tTest-rmse:0.00710\n",
      "[196]\tTest-rmse:0.00710\n",
      "[197]\tTest-rmse:0.00710\n",
      "[198]\tTest-rmse:0.00710\n",
      "[199]\tTest-rmse:0.00710\n",
      "[200]\tTest-rmse:0.00710\n",
      "[201]\tTest-rmse:0.00710\n",
      "[202]\tTest-rmse:0.00710\n",
      "[203]\tTest-rmse:0.00710\n",
      "[204]\tTest-rmse:0.00710\n",
      "[205]\tTest-rmse:0.00710\n",
      "[206]\tTest-rmse:0.00710\n",
      "[207]\tTest-rmse:0.00710\n",
      "[208]\tTest-rmse:0.00709\n",
      "[209]\tTest-rmse:0.00709\n",
      "[210]\tTest-rmse:0.00709\n",
      "[211]\tTest-rmse:0.00709\n",
      "[212]\tTest-rmse:0.00709\n",
      "[213]\tTest-rmse:0.00709\n",
      "[214]\tTest-rmse:0.00709\n",
      "[215]\tTest-rmse:0.00709\n",
      "[216]\tTest-rmse:0.00709\n",
      "[217]\tTest-rmse:0.00709\n",
      "[218]\tTest-rmse:0.00709\n",
      "[219]\tTest-rmse:0.00709\n",
      "[220]\tTest-rmse:0.00709\n",
      "[221]\tTest-rmse:0.00709\n",
      "[222]\tTest-rmse:0.00709\n",
      "[223]\tTest-rmse:0.00709\n",
      "[224]\tTest-rmse:0.00709\n",
      "[225]\tTest-rmse:0.00709\n",
      "[226]\tTest-rmse:0.00709\n",
      "[227]\tTest-rmse:0.00709\n",
      "[228]\tTest-rmse:0.00708\n",
      "[229]\tTest-rmse:0.00708\n",
      "[230]\tTest-rmse:0.00708\n",
      "[231]\tTest-rmse:0.00708\n",
      "[232]\tTest-rmse:0.00708\n",
      "[233]\tTest-rmse:0.00708\n",
      "[234]\tTest-rmse:0.00708\n",
      "[235]\tTest-rmse:0.00708\n",
      "[236]\tTest-rmse:0.00708\n",
      "[237]\tTest-rmse:0.00707\n",
      "[238]\tTest-rmse:0.00707\n",
      "[239]\tTest-rmse:0.00707\n",
      "[240]\tTest-rmse:0.00707\n",
      "[241]\tTest-rmse:0.00707\n",
      "[242]\tTest-rmse:0.00707\n",
      "[243]\tTest-rmse:0.00707\n",
      "[244]\tTest-rmse:0.00707\n",
      "[245]\tTest-rmse:0.00707\n",
      "[246]\tTest-rmse:0.00707\n",
      "[247]\tTest-rmse:0.00707\n",
      "[248]\tTest-rmse:0.00707\n",
      "[249]\tTest-rmse:0.00707\n",
      "[250]\tTest-rmse:0.00707\n",
      "[251]\tTest-rmse:0.00707\n",
      "[252]\tTest-rmse:0.00707\n",
      "[253]\tTest-rmse:0.00707\n",
      "[254]\tTest-rmse:0.00707\n",
      "[255]\tTest-rmse:0.00706\n",
      "[256]\tTest-rmse:0.00706\n",
      "[257]\tTest-rmse:0.00706\n",
      "[258]\tTest-rmse:0.00706\n",
      "[259]\tTest-rmse:0.00706\n",
      "[260]\tTest-rmse:0.00706\n",
      "[261]\tTest-rmse:0.00706\n",
      "[262]\tTest-rmse:0.00706\n",
      "[263]\tTest-rmse:0.00705\n",
      "[264]\tTest-rmse:0.00705\n",
      "[265]\tTest-rmse:0.00705\n",
      "[266]\tTest-rmse:0.00705\n",
      "[267]\tTest-rmse:0.00705\n",
      "[268]\tTest-rmse:0.00705\n",
      "[269]\tTest-rmse:0.00705\n",
      "[270]\tTest-rmse:0.00705\n",
      "[271]\tTest-rmse:0.00705\n",
      "[272]\tTest-rmse:0.00705\n",
      "[273]\tTest-rmse:0.00705\n",
      "[274]\tTest-rmse:0.00705\n",
      "[275]\tTest-rmse:0.00705\n",
      "[276]\tTest-rmse:0.00705\n",
      "[277]\tTest-rmse:0.00705\n",
      "[278]\tTest-rmse:0.00705\n",
      "[279]\tTest-rmse:0.00705\n",
      "[280]\tTest-rmse:0.00705\n",
      "[281]\tTest-rmse:0.00705\n",
      "[282]\tTest-rmse:0.00705\n",
      "[283]\tTest-rmse:0.00705\n",
      "[284]\tTest-rmse:0.00705\n",
      "[285]\tTest-rmse:0.00705\n",
      "[286]\tTest-rmse:0.00705\n",
      "[287]\tTest-rmse:0.00704\n",
      "[288]\tTest-rmse:0.00704\n",
      "[289]\tTest-rmse:0.00704\n",
      "[290]\tTest-rmse:0.00704\n",
      "[291]\tTest-rmse:0.00704\n",
      "[292]\tTest-rmse:0.00704\n",
      "[293]\tTest-rmse:0.00704\n",
      "[294]\tTest-rmse:0.00704\n",
      "[295]\tTest-rmse:0.00704\n",
      "[296]\tTest-rmse:0.00704\n",
      "[297]\tTest-rmse:0.00704\n",
      "[298]\tTest-rmse:0.00704\n",
      "[299]\tTest-rmse:0.00704\n",
      "[300]\tTest-rmse:0.00704\n",
      "[301]\tTest-rmse:0.00704\n",
      "[302]\tTest-rmse:0.00704\n",
      "[303]\tTest-rmse:0.00704\n",
      "[304]\tTest-rmse:0.00704\n",
      "[305]\tTest-rmse:0.00704\n",
      "[306]\tTest-rmse:0.00704\n",
      "[307]\tTest-rmse:0.00704\n",
      "[308]\tTest-rmse:0.00704\n",
      "[309]\tTest-rmse:0.00704\n",
      "[310]\tTest-rmse:0.00704\n",
      "[311]\tTest-rmse:0.00703\n",
      "[312]\tTest-rmse:0.00704\n",
      "[313]\tTest-rmse:0.00704\n",
      "[314]\tTest-rmse:0.00703\n",
      "[315]\tTest-rmse:0.00703\n",
      "[316]\tTest-rmse:0.00703\n",
      "[317]\tTest-rmse:0.00703\n",
      "[318]\tTest-rmse:0.00703\n",
      "[319]\tTest-rmse:0.00703\n",
      "[320]\tTest-rmse:0.00703\n",
      "[321]\tTest-rmse:0.00703\n",
      "[322]\tTest-rmse:0.00703\n",
      "[323]\tTest-rmse:0.00703\n",
      "[324]\tTest-rmse:0.00703\n",
      "[325]\tTest-rmse:0.00703\n",
      "[326]\tTest-rmse:0.00703\n",
      "[327]\tTest-rmse:0.00703\n",
      "[328]\tTest-rmse:0.00703\n",
      "[329]\tTest-rmse:0.00703\n",
      "[330]\tTest-rmse:0.00702\n",
      "[331]\tTest-rmse:0.00702\n",
      "[332]\tTest-rmse:0.00702\n",
      "[333]\tTest-rmse:0.00702\n",
      "[334]\tTest-rmse:0.00702\n",
      "[335]\tTest-rmse:0.00702\n",
      "[336]\tTest-rmse:0.00702\n"
     ]
    },
    {
     "name": "stdout",
     "output_type": "stream",
     "text": [
      "[337]\tTest-rmse:0.00702\n",
      "[338]\tTest-rmse:0.00702\n",
      "[339]\tTest-rmse:0.00702\n",
      "[340]\tTest-rmse:0.00702\n",
      "[341]\tTest-rmse:0.00702\n",
      "[342]\tTest-rmse:0.00702\n",
      "[343]\tTest-rmse:0.00702\n",
      "[344]\tTest-rmse:0.00702\n",
      "[345]\tTest-rmse:0.00702\n",
      "[346]\tTest-rmse:0.00702\n",
      "[347]\tTest-rmse:0.00702\n",
      "[348]\tTest-rmse:0.00702\n",
      "[349]\tTest-rmse:0.00702\n",
      "[350]\tTest-rmse:0.00702\n",
      "[351]\tTest-rmse:0.00702\n",
      "[352]\tTest-rmse:0.00702\n",
      "[353]\tTest-rmse:0.00702\n",
      "[354]\tTest-rmse:0.00702\n",
      "[355]\tTest-rmse:0.00702\n",
      "[356]\tTest-rmse:0.00702\n",
      "[357]\tTest-rmse:0.00702\n",
      "[358]\tTest-rmse:0.00702\n",
      "[359]\tTest-rmse:0.00702\n",
      "[360]\tTest-rmse:0.00702\n",
      "[361]\tTest-rmse:0.00702\n",
      "[362]\tTest-rmse:0.00702\n",
      "[363]\tTest-rmse:0.00702\n",
      "[364]\tTest-rmse:0.00702\n",
      "[365]\tTest-rmse:0.00701\n",
      "[366]\tTest-rmse:0.00701\n",
      "[367]\tTest-rmse:0.00701\n",
      "[368]\tTest-rmse:0.00701\n",
      "[369]\tTest-rmse:0.00701\n",
      "[370]\tTest-rmse:0.00701\n",
      "[371]\tTest-rmse:0.00701\n",
      "[372]\tTest-rmse:0.00701\n",
      "[373]\tTest-rmse:0.00701\n",
      "[374]\tTest-rmse:0.00701\n",
      "[375]\tTest-rmse:0.00701\n",
      "[376]\tTest-rmse:0.00701\n",
      "[377]\tTest-rmse:0.00701\n",
      "[378]\tTest-rmse:0.00701\n",
      "[379]\tTest-rmse:0.00701\n",
      "[380]\tTest-rmse:0.00701\n",
      "[381]\tTest-rmse:0.00701\n",
      "[382]\tTest-rmse:0.00701\n",
      "[383]\tTest-rmse:0.00701\n",
      "[384]\tTest-rmse:0.00700\n",
      "[385]\tTest-rmse:0.00700\n",
      "[386]\tTest-rmse:0.00700\n",
      "[387]\tTest-rmse:0.00700\n",
      "[388]\tTest-rmse:0.00700\n",
      "[389]\tTest-rmse:0.00700\n",
      "[390]\tTest-rmse:0.00700\n",
      "[391]\tTest-rmse:0.00700\n",
      "[392]\tTest-rmse:0.00700\n",
      "[393]\tTest-rmse:0.00700\n",
      "[394]\tTest-rmse:0.00700\n",
      "[395]\tTest-rmse:0.00700\n",
      "[396]\tTest-rmse:0.00700\n",
      "[397]\tTest-rmse:0.00700\n",
      "[398]\tTest-rmse:0.00700\n",
      "[399]\tTest-rmse:0.00700\n",
      "[400]\tTest-rmse:0.00700\n",
      "[401]\tTest-rmse:0.00700\n",
      "[402]\tTest-rmse:0.00700\n",
      "[403]\tTest-rmse:0.00700\n",
      "[404]\tTest-rmse:0.00700\n",
      "[405]\tTest-rmse:0.00700\n",
      "[406]\tTest-rmse:0.00700\n",
      "[407]\tTest-rmse:0.00700\n",
      "[408]\tTest-rmse:0.00700\n",
      "[409]\tTest-rmse:0.00700\n",
      "[410]\tTest-rmse:0.00700\n",
      "[411]\tTest-rmse:0.00700\n",
      "[412]\tTest-rmse:0.00700\n",
      "Stopping. Best iteration:\n",
      "[402]\tTest-rmse:0.00700\n",
      "\n",
      "[21:27:15] WARNING: C:/Users/Administrator/workspace/xgboost-win64_release_1.1.0/src/objective/regression_obj.cu:170: reg:linear is now deprecated in favor of reg:squarederror.\n",
      "Model's best RMSE on test set:  0.007\n",
      "Model's best iteration:  403\n"
     ]
    }
   ],
   "source": [
    "num_boost_round=999\n",
    "model = xgb.train(\n",
    "    param_dict,\n",
    "    dtrain,\n",
    "    num_boost_round=num_boost_round,\n",
    "    evals=[(dtest, \"Test\")],\n",
    "    early_stopping_rounds=10\n",
    ")\n",
    "print(\"Model's best RMSE on test set: \", model.best_score)\n",
    "print(\"Model's best iteration: \", model.best_iteration+1)"
   ]
  },
  {
   "cell_type": "code",
   "execution_count": 247,
   "metadata": {},
   "outputs": [
    {
     "name": "stdout",
     "output_type": "stream",
     "text": [
      "RMSE of XGB model on training data:  0.006679262830529538\n"
     ]
    }
   ],
   "source": [
    "# convert training data to DMatrix object\n",
    "dpred=xgb.DMatrix(predictors)\n",
    "\n",
    "# predict RMSE of Gradient Boosted Decision Tree model on training data\n",
    "print(\"RMSE of XGB model on training data: \",\n",
    "      np.sqrt(mean_squared_error(model.predict(dpred), target)))\n",
    "\n",
    "# predict RMSE of model on test data\n",
    "GBDT_test_pred = model.predict(xgb.DMatrix(test))"
   ]
  },
  {
   "cell_type": "markdown",
   "metadata": {},
   "source": [
    "Plot F-score of each feature using xgboost's .plot_importance() method"
   ]
  },
  {
   "cell_type": "code",
   "execution_count": 248,
   "metadata": {},
   "outputs": [
    {
     "data": {
      "image/png": "[encoded data removed]",
      "text/plain": [
       "<Figure size 432x288 with 1 Axes>"
      ]
     },
     "metadata": {
      "needs_background": "light"
     },
     "output_type": "display_data"
    }
   ],
   "source": [
    "plt.show(plot_importance(model))"
   ]
  },
  {
   "cell_type": "markdown",
   "metadata": {},
   "source": [
    "Lets look futher into the relationship between loan subgrades and interest rate by generating a scatter plot of the two variables to discern if there is a specific relationship between the two"
   ]
  },
  {
   "cell_type": "code",
   "execution_count": 260,
   "metadata": {},
   "outputs": [
    {
     "data": {
      "text/plain": [
       "Text(0, 0.5, 'Loan subgrade for test data')"
      ]
     },
     "execution_count": 260,
     "metadata": {},
     "output_type": "execute_result"
    },
    {
     "data": {
      "image/png": "[encoded data removed]",
      "text/plain": [
       "<Figure size 576x432 with 1 Axes>"
      ]
     },
     "metadata": {
      "needs_background": "light"
     },
     "output_type": "display_data"
    }
   ],
   "source": [
    "plt.figure(figsize=(8,6))\n",
    "plt.scatter(GBDT_test_pred, test['X9'],cmap='plasma')\n",
    "plt.xlabel('Interest Rate for test data')\n",
    "plt.ylabel('Loan subgrade for test data')"
   ]
  },
  {
   "cell_type": "markdown",
   "metadata": {},
   "source": [
    "Interestingly, it looks like the loan subgrade is the most important feature in predicting interest loan rates (this can be further explained by the scatter plot plotted above, which shows that both the variables are highly and postively correlated) followed by loan amount requested and invester funded portion of the loan. The number of 30 day+ past-due incidences of delinquencies in the borrow's credit file for the past 2 years and the number of derogatory public records were the least important features."
   ]
  },
  {
   "cell_type": "code",
   "execution_count": 267,
   "metadata": {},
   "outputs": [
    {
     "data": {
      "text/plain": [
       "pandas.core.frame.DataFrame"
      ]
     },
     "execution_count": 267,
     "metadata": {},
     "output_type": "execute_result"
    }
   ],
   "source": [
    "type(XGB_test_pred)"
   ]
  },
  {
   "cell_type": "code",
   "execution_count": 268,
   "metadata": {},
   "outputs": [],
   "source": [
    "df = XGB_test_pred.XGBPredictions * 100"
   ]
  },
  {
   "cell_type": "code",
   "execution_count": 274,
   "metadata": {},
   "outputs": [
    {
     "data": {
      "text/plain": [
       "0    16.50\n",
       "1     6.05\n",
       "2    14.28\n",
       "3    16.23\n",
       "4     9.79\n",
       "Name: XGBPredictions, dtype: float32"
      ]
     },
     "execution_count": 274,
     "metadata": {},
     "output_type": "execute_result"
    }
   ],
   "source": [
    "df = df.round(2)\n",
    "df.head()"
   ]
  },
  {
   "cell_type": "code",
   "execution_count": 275,
   "metadata": {},
   "outputs": [],
   "source": [
    "fina_df = df.astype(str) + '%'"
   ]
  },
  {
   "cell_type": "code",
   "execution_count": 278,
   "metadata": {},
   "outputs": [
    {
     "data": {
      "text/plain": [
       "0         16.5%\n",
       "1         6.05%\n",
       "2        14.28%\n",
       "3        16.23%\n",
       "4         9.79%\n",
       "          ...  \n",
       "79995     6.58%\n",
       "79996    20.37%\n",
       "79997    18.38%\n",
       "79998     14.3%\n",
       "79999    13.28%\n",
       "Name: XGBPredictions, Length: 80000, dtype: object"
      ]
     },
     "execution_count": 278,
     "metadata": {},
     "output_type": "execute_result"
    }
   ],
   "source": [
    "fina_df"
   ]
  },
  {
   "cell_type": "code",
   "execution_count": 277,
   "metadata": {},
   "outputs": [
    {
     "name": "stderr",
     "output_type": "stream",
     "text": [
      "C:\\Users\\Aakash Pahuja\\Anaconda3\\lib\\site-packages\\ipykernel_launcher.py:2: FutureWarning: The signature of `Series.to_csv` was aligned to that of `DataFrame.to_csv`, and argument 'header' will change its default value from False to True: please pass an explicit value to suppress this warning.\n",
      "  \n"
     ]
    }
   ],
   "source": [
    "# write out csv for our final model's test predictions\n",
    "fina_df.to_csv(\"Aakash_Pahuja_Results_from_ExtremeGradientBoosted.csv\")"
   ]
  },
  {
   "cell_type": "markdown",
   "metadata": {},
   "source": [
    "### Discussion of Model Selection and Results:\n",
    "\n",
    "For ensemble methods, we did not have to standardize or normalize our data.\n",
    "\n",
    "***DecisionTreeRegressor:***\n",
    "The first model I selected to predict interest rates was using a Decision Tree Regressor model. The Decision Tree Regressor model with max_depth as 8, min_samples_leaf as 0.13 and random_state as 3 produced an RMSE of 0.01 when predicting on the training data and also while computing the 10-folds CV RMSE on the same parameters.(An equal RMSE for both the training data and after applying cross-validation on the training data means that there wasn't any overfitting or underfitting).\n",
    "\n",
    "We also instantiated a DecisionTreeRegressor dt with different parameters (max_dept was decreased from 8 to 4 to account for overfitting, min_samples_leaf is doubled from 0.13 to 0.26) which produced a RMSE of 0.03 when predicting on the training data and also while computing the 10-folds CV RMSE on the same parameters.\n",
    "\n",
    "***RandomForestTreeRegressor:*** \n",
    "The second model I selected to predict interest rates was using a Random Forest Regressor model. The Random Forest Regressor model with n_estimators as 400, min_samples_leaf as 0.12 and random_state as 1 produced an RMSE of 0.02 when predicting on the training data and also while computing the 10-folds CV RMSE on the same parameters. (Over here we got an equal RMSE for both the training data and after applying cross-validation on the training data, which means that there wasn't any overfitting or underfitting).\n",
    "\n",
    "***Gradient Boost Regressor:*** \n",
    "The Gradient Boost Regressorr model with n_estimators as 4, n_estimators as 200 and random_state as 2 produced an RMSE of 0.007 when predicting on the training data and a RMSE of 0.01 while computing the 10-folds CV RMSE on the same parameters. (Over here the training RMSE is less than the CV RMSE, which means that there is underfitting in our data, in that case we have to reduce the bias in our data, (hence, we did not go with this model as our optimal model. We showed that in another model, a much better version of Gradient Boost Regressor is the Extreme Gradient Boosted Decision Tree Model). \n",
    "\n",
    "***RidgeCV()***\n",
    "The model I selected to predict interest rates was a ridge regression model using scikitlearn's RidgeCV() esitmator. Ridge regression is a multiple linear regression model,\n",
    "The RidgeCV regression model (with 10-fold cv technique used to optimize alpha parameter) produced an RMSE of 0.0090 when predicting on the training data. Which means the RMSE in prediction is roughly the equivalent of plus or minus 0.90 of the the true value of the interest rate\n",
    "\n",
    "***Extremem Gradient Boosted Decision Tree Model:*** (remove the extra details)\n",
    "I used XGBoost's python module xgboost as it provides relatively high customization options for hyperparameters and relatively fast processing with its built-in parellel processing when building decision trees. I manually tuned some parameters via trial-and-error efforts, which were\n",
    "- max_depth: the max_depth of each decision tree built. This is used to control over-fitting of the training data as higher depths will fit to more noise in the training data. Final value used: 6\n",
    "- min_child_weight: this is the sum of the weights defined for each child of each learner. This is used to also control overfitting of training data. Final value used: 1.\n",
    "- eta: this is essentially the learning rate of the model or the alpha value when gradient descent occurs. Final values used: 0.1\n",
    "- subsample: Lower values make the algorithm more conservative and prevents overfitting but too small values might lead to under-fitting. Final value: 1\n",
    "- colsample_bytree: similar to subsample except it is the fraction of columns to be randomly sampled for each tree. Final value: 1\n",
    "- num_boosting_rounds: Final value: 441\n",
    "- early_stopping_rounds: If the testing scores don't improve after 10 consecutive iterations, the model will stop and take the best score. Final value: 10\n",
    "\n",
    "It should be noted that I trained the XGB model on only 90% of the training data as the other 10% was randomly sampled from the training data and allocated as test data to optimize the general fit of the model during training. This helps ensure that overfitting doesn't occur on the training data.\n",
    "\n",
    "-------------------------------------------------------------------------------------------------------------------------------\n",
    "-------------------------------------------------------------------------------------------------------------------------------\n",
    "The RMSE of the XGB model on the training data was roughly 0.0066. Which was the lowest compared to the other four models we used to predict the interest rate on the train data.\n",
    "\n",
    "Although all models were regularized and optimized to prevent overfitting and underfitting as much as possible, I would expect the RMSE values on the test set predictions from all models to be slightly higher than their respective training set RMSE's as the models are naturally going to predict better on the data that they were trained on. Furthermore, I believe my preprocessing techniques were limited to my inuitive (and learned) understanding of features that may influence interest rates of loans. I removed quite a few columns from the data that may have been useful indicators."
   ]
  }
 ],
 "metadata": {
  "kernelspec": {
   "display_name": "Python 3",
   "language": "python",
   "name": "python3"
  },
  "language_info": {
   "codemirror_mode": {
    "name": "ipython",
    "version": 3
   },
   "file_extension": ".py",
   "mimetype": "text/x-python",
   "name": "python",
   "nbconvert_exporter": "python",
   "pygments_lexer": "ipython3",
   "version": "3.7.4"
  }
 },
 "nbformat": 4,
 "nbformat_minor": 2
}
